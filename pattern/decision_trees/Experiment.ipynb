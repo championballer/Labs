{
 "cells": [
  {
   "cell_type": "code",
   "execution_count": 1,
   "metadata": {},
   "outputs": [],
   "source": [
    "import numpy as np\n",
    "import pandas as pd\n",
    "import math"
   ]
  },
  {
   "cell_type": "code",
   "execution_count": 2,
   "metadata": {},
   "outputs": [
    {
     "data": {
      "text/plain": [
       "<classifier.Classifier at 0x113c1b668>"
      ]
     },
     "execution_count": 2,
     "metadata": {},
     "output_type": "execute_result"
    }
   ],
   "source": [
    "from classifier import Classifier\n",
    "\n",
    "clf1 = Classifier()\n",
    "clf1"
   ]
  },
  {
   "cell_type": "code",
   "execution_count": 3,
   "metadata": {},
   "outputs": [],
   "source": [
    "x = np.array([[0,0],\n",
    "              [0,1],\n",
    "              [1,0],\n",
    "              [1,1]])\n",
    "\n",
    "y = np.array([0,\n",
    "              1,\n",
    "              1,\n",
    "              1]) "
   ]
  },
  {
   "cell_type": "code",
   "execution_count": 4,
   "metadata": {},
   "outputs": [
    {
     "name": "stdout",
     "output_type": "stream",
     "text": [
      "Level 0\n",
      "Count of 0 = 1\n",
      "Count of 1 = 3\n",
      "Current Entropy is = 0.8112781244591328\n",
      "Splitting on feature  X[0] with gain ratio 0.31127812445913283\n",
      "\n",
      "Level 1\n",
      "Count of 0 = 1\n",
      "Count of 1 = 1\n",
      "Current Entropy is = 1.0\n",
      "Splitting on feature  X[1] with gain ratio 1.0\n",
      "\n",
      "Level 2\n",
      "Count of 0 = 1\n",
      "Count of 1 = 0\n",
      "Current Entropy is =  0.0\n",
      "Reached leaf Node\n",
      "\n",
      "Level 2\n",
      "Count of 0 = 0\n",
      "Count of 1 = 1\n",
      "Current Entropy is =  0.0\n",
      "Reached leaf Node\n",
      "\n",
      "Level 1\n",
      "Count of 0 = 0\n",
      "Count of 1 = 2\n",
      "Current Entropy is =  0.0\n",
      "Reached leaf Node\n",
      "\n"
     ]
    }
   ],
   "source": [
    "clf1.fit(x,y)"
   ]
  },
  {
   "cell_type": "code",
   "execution_count": 5,
   "metadata": {},
   "outputs": [
    {
     "name": "stdout",
     "output_type": "stream",
     "text": [
      "Predictions : [0 1 1 1]\n",
      "\n",
      "Score : 1.0\n",
      "\n",
      "DOT DATA :- digraph Tree {\n",
      "node [shape=box] ;\n",
      "0 [label=\"Feature to split upon : X[0]\\nOutput at this node : 1\" ];\n",
      "1 [label=\"Feature to split upon : X[1]\\nOutput at this node : 0\" ];\n",
      "0 -> 1 [ headlabel=\"Feature value = 0\"]; \n",
      "2 [label=\"Feature to split upon : X[None]\\nOutput at this node : 1\" ];\n",
      "0 -> 2 [ headlabel=\"Feature value = 1\"]; \n",
      "3 [label=\"Feature to split upon : X[None]\\nOutput at this node : 0\" ];\n",
      "1 -> 3 [ headlabel=\"Feature value = 0\"]; \n",
      "4 [label=\"Feature to split upon : X[None]\\nOutput at this node : 1\" ];\n",
      "1 -> 4 [ headlabel=\"Feature value = 1\"]; \n",
      "}\n"
     ]
    }
   ],
   "source": [
    "Y_pred = clf1.predict(x)\n",
    "print(\"Predictions :\",Y_pred)\n",
    "print()\n",
    "print(\"Score :\",clf1.score(x,y)) # Score on training data\n",
    "print()\n",
    "print(\"DOT DATA :-\",clf1.export_tree_pdf(filename=\"tree_OR.pdf\"))"
   ]
  },
  {
   "cell_type": "code",
   "execution_count": null,
   "metadata": {},
   "outputs": [],
   "source": []
  }
 ],
 "metadata": {
  "kernelspec": {
   "display_name": "Python 3",
   "language": "python",
   "name": "python3"
  },
  "language_info": {
   "codemirror_mode": {
    "name": "ipython",
    "version": 3
   },
   "file_extension": ".py",
   "mimetype": "text/x-python",
   "name": "python",
   "nbconvert_exporter": "python",
   "pygments_lexer": "ipython3",
   "version": "3.6.8"
  }
 },
 "nbformat": 4,
 "nbformat_minor": 2
}
