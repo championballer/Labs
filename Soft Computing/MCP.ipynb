{
 "cells": [
  {
   "cell_type": "code",
   "execution_count": 1,
   "metadata": {},
   "outputs": [
    {
     "ename": "SyntaxError",
     "evalue": "invalid syntax (<ipython-input-1-22dcd075938f>, line 3)",
     "output_type": "error",
     "traceback": [
      "\u001b[0;36m  File \u001b[0;32m\"<ipython-input-1-22dcd075938f>\"\u001b[0;36m, line \u001b[0;32m3\u001b[0m\n\u001b[0;31m    from matplotlib import pyplot as plt import csv\u001b[0m\n\u001b[0m                                              ^\u001b[0m\n\u001b[0;31mSyntaxError\u001b[0m\u001b[0;31m:\u001b[0m invalid syntax\n"
     ]
    }
   ],
   "source": [
    "\n",
    "\n",
    "\n",
    "\n"
   ]
  },
  {
   "cell_type": "code",
   "execution_count": 14,
   "metadata": {},
   "outputs": [],
   "source": [
    "import numpy as np\n",
    "import pandas as pd\n",
    "from matplotlib import pyplot as plt \n",
    "import csv\n",
    "import sys"
   ]
  },
  {
   "cell_type": "code",
   "execution_count": 29,
   "metadata": {},
   "outputs": [],
   "source": [
    "class mcpitts:\n",
    "    \n",
    "    def __init__(self,filename,w1,w2,threshold):\n",
    "        # read the input from excel file \n",
    "        dataframe = filename\n",
    "        # Convert the dataframe into lists for analysis \n",
    "        self.feature1 = dataframe['x1'].tolist() \n",
    "        self.feature2 = dataframe['x2'].tolist() \n",
    "        self.actualop = dataframe['y'].tolist()\n",
    "        # Set the weights and activation value \n",
    "        self.w1 = w1\n",
    "        self.w2 = w2\n",
    "        self.threshold = threshold\n",
    "        \n",
    "    def calculate(self):\n",
    "        # Obtain output by multiplying inputs and weights\n",
    "        self.op = [ (self.feature1[i]*self.w1+self.feature2[i]*self.w2) for i in range(4) ]\n",
    "        # Apply the activation function\n",
    "        self.finalop = [ 1 if x >= self.threshold else 0 for x in self.op ]\n",
    "        return self.finalop\n",
    "    \n",
    "    def display(self): \n",
    "        print(\"Model outputs : \") \n",
    "        print(self.finalop)"
   ]
  },
  {
   "cell_type": "code",
   "execution_count": 16,
   "metadata": {},
   "outputs": [],
   "source": [
    "def find_threshold(data,w1,w2):\n",
    "        threshold = 0\n",
    "        y1 = data[0][0]*w1+data[0][1]*w2\n",
    "        y2 = data[1][0]*w1+data[1][1]*w2\n",
    "        y3 = data[2][0]*w1+data[2][1]*w2\n",
    "        y4 = data[3][0]*w1+data[3][1]*w2\n",
    "        \n",
    "        if y1==data[0][2] and y2==data[1][2] and y3==data[2][2] and y4 = data[3][2]:\n",
    "            "
   ]
  },
  {
   "cell_type": "code",
   "execution_count": 17,
   "metadata": {},
   "outputs": [],
   "source": []
  },
  {
   "cell_type": "code",
   "execution_count": 83,
   "metadata": {},
   "outputs": [],
   "source": [
    "def main():\n",
    "#     poss_weights = [(1,1),(1,-1),(-1,1),(-1,-1)]\n",
    "#     for index in range(len(poss_weights)):\n",
    "#         valid,threshold = find_threshold(data,weights[index][0],weights[index][1])\n",
    "#         if valid:\n",
    "#             break\n",
    "#         elif not valid and index==3:\n",
    "#             print(\"Not representable linearly\")\n",
    "    w1 = -1\n",
    "    w2 = -1\n",
    "    threshold = -1\n",
    "    data = [[0,0,1],[0,1,1],[1,0,1],[1,1,0]]\n",
    "    filename = pd.DataFrame(data,columns=['x1','x2','y']) \n",
    "    mc = mcpitts(filename,w1,w2,threshold) \n",
    "    mc.calculate()\n",
    "    mc.display()\n",
    "    "
   ]
  },
  {
   "cell_type": "code",
   "execution_count": 84,
   "metadata": {},
   "outputs": [
    {
     "name": "stdout",
     "output_type": "stream",
     "text": [
      "Model outputs : \n",
      "[1, 1, 1, 0]\n"
     ]
    }
   ],
   "source": [
    "main()"
   ]
  },
  {
   "cell_type": "code",
   "execution_count": null,
   "metadata": {},
   "outputs": [],
   "source": []
  }
 ],
 "metadata": {
  "kernelspec": {
   "display_name": "Python 3",
   "language": "python",
   "name": "python3"
  },
  "language_info": {
   "codemirror_mode": {
    "name": "ipython",
    "version": 3
   },
   "file_extension": ".py",
   "mimetype": "text/x-python",
   "name": "python",
   "nbconvert_exporter": "python",
   "pygments_lexer": "ipython3",
   "version": "3.6.6"
  }
 },
 "nbformat": 4,
 "nbformat_minor": 2
}
