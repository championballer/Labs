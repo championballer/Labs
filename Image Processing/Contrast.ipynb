{
 "cells": [
  {
   "cell_type": "code",
   "execution_count": null,
   "metadata": {},
   "outputs": [
    {
     "name": "stdout",
     "output_type": "stream",
     "text": [
      "[[126 126 126 ... 128 128 128]\n",
      " [126 126 126 ... 128 128 128]\n",
      " [126 126 127 ... 128 129 129]\n",
      " ...\n",
      " [135 135 134 ... 114 114 113]\n",
      " [133 134 133 ... 114 113 113]\n",
      " [134 136 134 ... 114 113 113]]\n",
      "[[122 122 122 ... 124 124 124]\n",
      " [122 122 122 ... 124 124 124]\n",
      " [122 122 123 ... 124 125 125]\n",
      " ...\n",
      " [131 131 130 ... 110 110 108]\n",
      " [129 130 129 ... 110 108 108]\n",
      " [130 132 130 ... 110 108 108]]\n"
     ]
    }
   ],
   "source": [
    "import cv2\n",
    "import numpy as np\n",
    "\n",
    "img=cv2.imread('flower1.jpg',0)\n",
    "int_min=np.amin(img)\n",
    "int_max=np.amax(img)\n",
    "x1=int_min\n",
    "y1=0\n",
    "x2=int_max\n",
    "y2=255\n",
    "m=float(y2-y1)/float(x2-x1)\n",
    "out=img*m\n",
    "out=out-(x1*m)\n",
    "\n",
    "out=np.array(out, dtype = np.uint8)\n",
    "print(img)\n",
    "print(out)\n",
    "cv2.imshow('image', img)\n",
    "cv2.imshow('contrast expanded', out)\n",
    "cv2.waitKey(0)\n",
    "cv2.destroyAllWindows()"
   ]
  },
  {
   "cell_type": "code",
   "execution_count": null,
   "metadata": {},
   "outputs": [],
   "source": []
  }
 ],
 "metadata": {
  "kernelspec": {
   "display_name": "Python 3",
   "language": "python",
   "name": "python3"
  },
  "language_info": {
   "codemirror_mode": {
    "name": "ipython",
    "version": 3
   },
   "file_extension": ".py",
   "mimetype": "text/x-python",
   "name": "python",
   "nbconvert_exporter": "python",
   "pygments_lexer": "ipython3",
   "version": "3.6.8"
  }
 },
 "nbformat": 4,
 "nbformat_minor": 2
}
