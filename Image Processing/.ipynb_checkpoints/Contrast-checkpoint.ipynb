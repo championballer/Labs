{
 "cells": [
  {
   "cell_type": "code",
   "execution_count": null,
   "metadata": {},
   "outputs": [
    {
     "name": "stdout",
     "output_type": "stream",
     "text": [
      "[[160 167 170 ... 207 207 206]\n",
      " [163 168 170 ... 207 207 206]\n",
      " [166 169 170 ... 207 207 207]\n",
      " ...\n",
      " [134 135 136 ... 163 164 164]\n",
      " [143 140 135 ... 165 165 165]\n",
      " [142 139 136 ... 165 165 165]]\n",
      "[[167 178 183 ... 242 242 240]\n",
      " [172 180 183 ... 242 242 240]\n",
      " [176 181 183 ... 242 242 242]\n",
      " ...\n",
      " [125 127 129 ... 172 173 173]\n",
      " [140 135 127 ... 175 175 175]\n",
      " [138 133 129 ... 175 175 175]]\n"
     ]
    }
   ],
   "source": [
    "import cv2\n",
    "import numpy as np\n",
    "\n",
    "img=cv2.imread('landscape.jpg',0)\n",
    "int_min=np.amin(img)\n",
    "int_max=np.amax(img)\n",
    "x1=int_min\n",
    "y1=0\n",
    "x2=int_max\n",
    "y2=255\n",
    "m=float(y2-y1)/float(x2-x1)\n",
    "out=img*m\n",
    "out=out-(x1*m)\n",
    "\n",
    "out=np.array(out, dtype = np.uint8)\n",
    "print(img)\n",
    "print(out)\n",
    "cv2.imshow('image', img)\n",
    "cv2.imshow('contrast expanded', out)\n",
    "cv2.waitKey(0)\n",
    "cv2.destroyAllWindows()"
   ]
  },
  {
   "cell_type": "code",
   "execution_count": null,
   "metadata": {},
   "outputs": [],
   "source": []
  }
 ],
 "metadata": {
  "kernelspec": {
   "display_name": "Python 3",
   "language": "python",
   "name": "python3"
  },
  "language_info": {
   "codemirror_mode": {
    "name": "ipython",
    "version": 3
   },
   "file_extension": ".py",
   "mimetype": "text/x-python",
   "name": "python",
   "nbconvert_exporter": "python",
   "pygments_lexer": "ipython3",
   "version": "3.6.6"
  }
 },
 "nbformat": 4,
 "nbformat_minor": 2
}
