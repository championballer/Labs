{
 "cells": [
  {
   "cell_type": "code",
   "execution_count": null,
   "metadata": {},
   "outputs": [],
   "source": [
    "import cv2\n",
    "import numpy as np\n",
    "\n",
    "img=cv2.imread('cat.jpeg',0)\n",
    "out=np.copy(img)\n",
    "\n",
    "i=1\n",
    "\n",
    "while i<out.shape[0]:\n",
    "\tout=np.delete(out,(i),axis=0)\n",
    "\ti=i+1\n",
    "j=1\n",
    "\n",
    "while j<out.shape[1]:\n",
    "\tout=np.delete(out,(j),axis=1)\n",
    "\tj=j+1\n",
    "\n",
    "out=np.array(out, dtype = np.uint8)\n",
    "print(img.shape)\n",
    "print(out.shape)\n",
    "cv2.imshow('image', img)\n",
    "cv2.imshow('shrinked', out)\n",
    "cv2.waitKey(0)\n",
    "cv2.destroyAllWindows()"
   ]
  },
  {
   "cell_type": "code",
   "execution_count": null,
   "metadata": {},
   "outputs": [],
   "source": []
  }
 ],
 "metadata": {
  "kernelspec": {
   "display_name": "Python 3",
   "language": "python",
   "name": "python3"
  },
  "language_info": {
   "codemirror_mode": {
    "name": "ipython",
    "version": 3
   },
   "file_extension": ".py",
   "mimetype": "text/x-python",
   "name": "python",
   "nbconvert_exporter": "python",
   "pygments_lexer": "ipython3",
   "version": "3.6.6"
  }
 },
 "nbformat": 4,
 "nbformat_minor": 2
}
