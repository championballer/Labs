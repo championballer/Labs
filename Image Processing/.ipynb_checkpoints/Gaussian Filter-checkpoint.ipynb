{
 "cells": [
  {
   "cell_type": "code",
   "execution_count": 7,
   "metadata": {},
   "outputs": [],
   "source": [
    "import numpy as np\n",
    "import cv2\n",
    "from matplotlib import pyplot as plt"
   ]
  },
  {
   "cell_type": "code",
   "execution_count": 2,
   "metadata": {},
   "outputs": [],
   "source": [
    "def pad(img,shp,l):\n",
    "\tp=np.zeros((shp[0]+2*l,shp[1]+2*l))\n",
    "\tp[l:-l,l:-l]=np.copy(img)\n",
    "\tfor j in range(l):\n",
    "\t\tp[l:-l,j]=p[l:-l,l]\n",
    "\t\tp[l:-l,-j-1]=p[l:-l,-l-1]\n",
    "\n",
    "\tfor i in range(l):\n",
    "\t\tp[i]=p[l]\n",
    "\t\tp[-i-1]=p[-l-1]\n",
    "\n",
    "\treturn p"
   ]
  },
  {
   "cell_type": "code",
   "execution_count": 3,
   "metadata": {},
   "outputs": [],
   "source": [
    "def gauss(Z,var):\n",
    "\tN=int(Z/2)\n",
    "\tfil=np.zeros((Z,Z))\n",
    "\tfor x in range(1,N+1):   #for non zero\n",
    "\t\tfor y in range(x,N+1): \n",
    "\t\t\tex=np.exp(-float(x*x+y*y)/(2*var))\n",
    "\t\t\tprint(ex)\n",
    "\t\t\tfil[N-x,N-y]=ex\n",
    "\t\t\tfil[N+x,N-y]=ex\n",
    "\t\t\tfil[N-x,N+y]=ex\n",
    "\t\t\tfil[N+x,N+y]=ex\n",
    "\t\t\tif x!=y:\n",
    "\t\t\t\tfil[N-y,N-x]=ex\n",
    "\t\t\t\tfil[N+y,N-x]=ex\n",
    "\t\t\t\tfil[N-y,N+x]=ex\n",
    "\t\t\t\tfil[N+y,N+x]=ex\n",
    "\tfor x in range(1,N+1):  #for zero elements\n",
    "\t\tex=np.exp(-float(x*x)/(2*var))\n",
    "\t\tfil[N-x,N]=ex\n",
    "\t\tfil[N+x,N]=ex\n",
    "\t\tfil[N,N-x]=ex\n",
    "\t\tfil[N,N+x]=ex\n",
    "\tfil[N,N]=1\n",
    "\tprint(fil)\n",
    "\tc=float(1)/float(fil[Z-1,Z-1])\n",
    "\tprint(c)\n",
    "\tfil=np.round(fil*c).astype(int)\n",
    "\treturn fil"
   ]
  },
  {
   "cell_type": "code",
   "execution_count": null,
   "metadata": {},
   "outputs": [
    {
     "name": "stdout",
     "output_type": "stream",
     "text": [
      "Enter size of Gaussian Filter (odd number only): 5\n",
      "Enter the variance of Gaussian Filter: 1\n",
      "0.36787944117144233\n",
      "0.0820849986238988\n",
      "0.01831563888873418\n",
      "[[0.01831564 0.082085   0.13533528 0.082085   0.01831564]\n",
      " [0.082085   0.36787944 0.60653066 0.36787944 0.082085  ]\n",
      " [0.13533528 0.60653066 1.         0.60653066 0.13533528]\n",
      " [0.082085   0.36787944 0.60653066 0.36787944 0.082085  ]\n",
      " [0.01831564 0.082085   0.13533528 0.082085   0.01831564]]\n",
      "54.59815003314424\n",
      "[[ 1  4  7  4  1]\n",
      " [ 4 20 33 20  4]\n",
      " [ 7 33 55 33  7]\n",
      " [ 4 20 33 20  4]\n",
      " [ 1  4  7  4  1]]\n",
      "331\n"
     ]
    }
   ],
   "source": [
    "N=int(input(\"Enter size of Gaussian Filter (odd number only): \"))\n",
    "var=int(input(\"Enter the variance of Gaussian Filter: \"))\n",
    "fil=gauss(N,var)\n",
    "print(fil)\n",
    "coeff=np.sum(fil)\n",
    "print(coeff)\n",
    "img=cv2.imread('cat.jpeg',0)\n",
    "shp=img.shape\n",
    "shpm=(N,N)\n",
    "mask=fil\n",
    "p=pad(img,shp,shpm[1])\n",
    "\n",
    "out=np.zeros((shp))\n",
    "\n",
    "for i in range(shp[0]):\n",
    "\tfor j in range(shp[1]):\n",
    "\t\ttemp=np.multiply(p[i:i+shpm[0],j:j+shpm[1]],mask)\n",
    "\t\ttemp2=temp.sum()\n",
    "\t\tout[i,j]=np.floor(temp2)\n",
    "out=out/coeff\n",
    "\n",
    "out=np.array(out, dtype = np.uint8)\n",
    "\n",
    "cv2.imshow('image', img)\n",
    "cv2.imshow('masked', out)\n",
    "cv2.waitKey(0)\n",
    "cv2.destroyAllWindows()"
   ]
  },
  {
   "cell_type": "code",
   "execution_count": null,
   "metadata": {},
   "outputs": [],
   "source": []
  }
 ],
 "metadata": {
  "kernelspec": {
   "display_name": "Python 3",
   "language": "python",
   "name": "python3"
  },
  "language_info": {
   "codemirror_mode": {
    "name": "ipython",
    "version": 3
   },
   "file_extension": ".py",
   "mimetype": "text/x-python",
   "name": "python",
   "nbconvert_exporter": "python",
   "pygments_lexer": "ipython3",
   "version": "3.6.8"
  }
 },
 "nbformat": 4,
 "nbformat_minor": 2
}
