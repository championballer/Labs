{
 "cells": [
  {
   "cell_type": "code",
   "execution_count": 2,
   "metadata": {},
   "outputs": [
    {
     "data": {
      "image/png": "[encoded data removed]",
      "text/plain": [
       "<Figure size 432x288 with 1 Axes>"
      ]
     },
     "metadata": {
      "needs_background": "light"
     },
     "output_type": "display_data"
    },
    {
     "data": {
      "image/png": "[encoded data removed]",
      "text/plain": [
       "<Figure size 432x288 with 1 Axes>"
      ]
     },
     "metadata": {
      "needs_background": "light"
     },
     "output_type": "display_data"
    }
   ],
   "source": [
    "import cv2\n",
    "import numpy as np\n",
    "import matplotlib.pyplot as plt\n",
    "\n",
    "def pad(img,shp):\n",
    "\tp=np.zeros((shp[0]+2,shp[1]+2))\n",
    "\tp[1:-1,1:-1]=np.copy(img)\n",
    "\tp[0,1:-1],p[-1,1:-1]=img[0],img[-1]\n",
    "\tp[1:-1,0],p[1:-1,-1]=img[:,0],img[:,-1]\n",
    "\tp[0,0],p[0,-1]=img[0,0],img[0,-1]\n",
    "\tp[-1,0],p[-1,-1]=img[-1,0],img[-1,-1]\n",
    "\treturn p\n",
    "\n",
    "\n",
    "shp=(25,25)\n",
    "img = np.floor(np.random.random(shp)*255)\n",
    "\n",
    "\n",
    "shpm=(3,3)\n",
    "mask=np.full(shpm,1)\n",
    "p=pad(img,shp)\n",
    "out=np.zeros((shp))\n",
    "\n",
    "for i in range(shp[0]):\n",
    "\tfor j in range(shp[1]):\n",
    "\t\ttemp=np.multiply(p[i:i+shpm[0],j:j+shpm[1]],mask)\n",
    "\t\ttemp2=temp.sum()\n",
    "\t\tout[i,j]=temp2\n",
    "\n",
    "out=out/9\n",
    "out=out.astype(int)\n",
    "fig = plt.figure(100)\n",
    "fig.canvas.set_window_title('Original image')\n",
    "plt.imshow(img, cmap=\"Greys\")\n",
    "\n",
    "fig = plt.figure(200)\n",
    "fig.canvas.set_window_title('Masked')\n",
    "plt.imshow(out, cmap=\"Greys\")\n",
    "\n",
    "plt.show()"
   ]
  },
  {
   "cell_type": "code",
   "execution_count": 3,
   "metadata": {},
   "outputs": [
    {
     "data": {
      "text/plain": [
       "'3.4.4'"
      ]
     },
     "execution_count": 3,
     "metadata": {},
     "output_type": "execute_result"
    }
   ],
   "source": []
  },
  {
   "cell_type": "code",
   "execution_count": null,
   "metadata": {},
   "outputs": [],
   "source": []
  }
 ],
 "metadata": {
  "kernelspec": {
   "display_name": "Python 3",
   "language": "python",
   "name": "python3"
  },
  "language_info": {
   "codemirror_mode": {
    "name": "ipython",
    "version": 3
   },
   "file_extension": ".py",
   "mimetype": "text/x-python",
   "name": "python",
   "nbconvert_exporter": "python",
   "pygments_lexer": "ipython3",
   "version": "3.6.6"
  }
 },
 "nbformat": 4,
 "nbformat_minor": 2
}
