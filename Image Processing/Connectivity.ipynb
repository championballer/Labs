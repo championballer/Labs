{
 "cells": [
  {
   "cell_type": "code",
   "execution_count": 18,
   "metadata": {},
   "outputs": [],
   "source": [
    "class pixel:\n",
    "    \n",
    "    def __init__(self,x,y):\n",
    "        self.x = x\n",
    "        self.y = y"
   ]
  },
  {
   "cell_type": "code",
   "execution_count": 23,
   "metadata": {},
   "outputs": [],
   "source": [
    "def four_way_check(p1,p2):\n",
    "    \n",
    "    x1,y1 = p1.x,p1.y\n",
    "    x2,y2 = p2.x,p2.y\n",
    "    \n",
    "    if x2==x1:\n",
    "        if y2-1==y1:\n",
    "            return True\n",
    "        elif y2+1==y2:\n",
    "            return True\n",
    "    elif y2==y1:\n",
    "        if x2-1==x1:\n",
    "            return True\n",
    "        elif x2+1==x1:\n",
    "            return True\n",
    "    else:\n",
    "        return False"
   ]
  },
  {
   "cell_type": "code",
   "execution_count": 29,
   "metadata": {},
   "outputs": [],
   "source": [
    "def four_way(p1):\n",
    "    \n",
    "    x1,y1 = p1.x,p1.y\n",
    "    neig_four = [(x1-1,y1),(x1+1,y1),(x1,y1-1),(x1,y1+1)]\n",
    "    \n",
    "    return neig_four"
   ]
  },
  {
   "cell_type": "code",
   "execution_count": 31,
   "metadata": {},
   "outputs": [],
   "source": [
    "def d_way(p1):\n",
    "    x1,y1 = p1.x,p1.y\n",
    "    neig_d = [(x1-1,y1-1),(x1-1,y1+1),(x1+1,y1-1),(x1+1,y1+1)]\n",
    "    return neig_d"
   ]
  },
  {
   "cell_type": "code",
   "execution_count": 33,
   "metadata": {},
   "outputs": [],
   "source": [
    "def eight_way(p1):\n",
    "    x1,y1 = p1.x,p1.y\n",
    "    eight = [(x1-1,y1-1),(x1-1,y1),(x1-1,y1+1),(x1,y1-1),(x1,y1+1),(x1+1,y1-1),(x1+1,y1),(x1+1,y1+1)]\n",
    "    return eight"
   ]
  },
  {
   "cell_type": "code",
   "execution_count": 38,
   "metadata": {},
   "outputs": [
    {
     "name": "stdout",
     "output_type": "stream",
     "text": [
      "[(0, 0), (2, 0), (1, -1), (1, 1)]\n"
     ]
    }
   ],
   "source": [
    "print(four_way(p2))"
   ]
  },
  {
   "cell_type": "code",
   "execution_count": 39,
   "metadata": {},
   "outputs": [
    {
     "name": "stdout",
     "output_type": "stream",
     "text": [
      "[(0, -1), (0, 1), (2, -1), (2, 1)]\n"
     ]
    }
   ],
   "source": [
    "print(d_way(p2))"
   ]
  },
  {
   "cell_type": "code",
   "execution_count": 40,
   "metadata": {},
   "outputs": [
    {
     "name": "stdout",
     "output_type": "stream",
     "text": [
      "[(0, -1), (0, 0), (0, 1), (1, -1), (1, 1), (2, -1), (2, 0), (2, 1)]\n"
     ]
    }
   ],
   "source": [
    "print(eight_way(p2))"
   ]
  },
  {
   "cell_type": "code",
   "execution_count": 21,
   "metadata": {},
   "outputs": [
    {
     "name": "stdout",
     "output_type": "stream",
     "text": [
      "True\n"
     ]
    }
   ],
   "source": [
    "p1 = pixel(0,0)\n",
    "p2 = pixel(1,0)\n",
    "\n",
    "print(four_way(p1))"
   ]
  },
  {
   "cell_type": "code",
   "execution_count": 7,
   "metadata": {},
   "outputs": [
    {
     "name": "stdout",
     "output_type": "stream",
     "text": [
      "False\n"
     ]
    }
   ],
   "source": [
    "p3 = pixel(1,1)\n",
    "print(four_way(p1,p3))"
   ]
  },
  {
   "cell_type": "code",
   "execution_count": 24,
   "metadata": {},
   "outputs": [],
   "source": [
    "def d_way_check(p1,p2):\n",
    "    \n",
    "    x1,y1 = p1.x,p1.y\n",
    "    x2,y2 = p2.x,p2.y\n",
    "    \n",
    "    if x2-1==x1 and y2-1==y1:\n",
    "        return True\n",
    "    elif x2-1==x1 and y2+1==y1:\n",
    "        return True\n",
    "    elif x2+1==x1 and y2-1==y1:\n",
    "        return True\n",
    "    elif x2+1==x1 and y2+1==y1:\n",
    "        return True\n",
    "    else:\n",
    "        return False"
   ]
  },
  {
   "cell_type": "code",
   "execution_count": 9,
   "metadata": {},
   "outputs": [
    {
     "data": {
      "text/plain": [
       "False"
      ]
     },
     "execution_count": 9,
     "metadata": {},
     "output_type": "execute_result"
    }
   ],
   "source": [
    "d_way(p1,p2)"
   ]
  },
  {
   "cell_type": "code",
   "execution_count": 10,
   "metadata": {},
   "outputs": [
    {
     "data": {
      "text/plain": [
       "True"
      ]
     },
     "execution_count": 10,
     "metadata": {},
     "output_type": "execute_result"
    }
   ],
   "source": [
    "d_way(p1,p3)"
   ]
  },
  {
   "cell_type": "code",
   "execution_count": 25,
   "metadata": {},
   "outputs": [],
   "source": [
    "def eight_way_check(p1,p2):\n",
    "    \n",
    "    x1,y1 = p1.x,p1.y\n",
    "    x2,y2 = p2.x,p2.y\n",
    "    \n",
    "    eight = [(x1-1,y1-1),(x1-1,y1),(x1-1,y1+1),(x1,y1-1),(x1,y1+1),(x1+1,y1-1),(x1+1,y1),(x1+1,y1+1)]\n",
    "    if (x2,y2) in eight:\n",
    "        return True\n",
    "    else:\n",
    "        return False\n",
    "    \n",
    "    "
   ]
  },
  {
   "cell_type": "code",
   "execution_count": 12,
   "metadata": {},
   "outputs": [
    {
     "data": {
      "text/plain": [
       "True"
      ]
     },
     "execution_count": 12,
     "metadata": {},
     "output_type": "execute_result"
    }
   ],
   "source": [
    "eight_way(p1,p2)"
   ]
  },
  {
   "cell_type": "code",
   "execution_count": 13,
   "metadata": {},
   "outputs": [],
   "source": [
    "p4 = pixel(2,3)"
   ]
  },
  {
   "cell_type": "code",
   "execution_count": 14,
   "metadata": {},
   "outputs": [
    {
     "data": {
      "text/plain": [
       "False"
      ]
     },
     "execution_count": 14,
     "metadata": {},
     "output_type": "execute_result"
    }
   ],
   "source": [
    "eight_way(p1,p4)"
   ]
  },
  {
   "cell_type": "code",
   "execution_count": 26,
   "metadata": {},
   "outputs": [],
   "source": [
    "def m_way_check(p1,p2):\n",
    "    x1,y1 = p1.x,p1.y\n",
    "    x2,y2 = p2.x,p2.y\n",
    "    \n",
    "    eight = [(x1-1,y1-1),(x1-1,y1),(x1-1,y1+1),(x1,y1-1),(x1,y1+1),(x1+1,y1-1),(x1+1,y1),(x1+1,y1+1)]\n",
    "    if (x2,y2) in eight:\n",
    "        return True\n",
    "    else:\n",
    "        return False"
   ]
  },
  {
   "cell_type": "code",
   "execution_count": 16,
   "metadata": {},
   "outputs": [
    {
     "data": {
      "text/plain": [
       "True"
      ]
     },
     "execution_count": 16,
     "metadata": {},
     "output_type": "execute_result"
    }
   ],
   "source": [
    "m_way(p1,p2)"
   ]
  },
  {
   "cell_type": "code",
   "execution_count": 17,
   "metadata": {},
   "outputs": [
    {
     "data": {
      "text/plain": [
       "False"
      ]
     },
     "execution_count": 17,
     "metadata": {},
     "output_type": "execute_result"
    }
   ],
   "source": [
    "m_way(p1,p4)"
   ]
  },
  {
   "cell_type": "code",
   "execution_count": null,
   "metadata": {},
   "outputs": [],
   "source": []
  }
 ],
 "metadata": {
  "kernelspec": {
   "display_name": "Python 3",
   "language": "python",
   "name": "python3"
  },
  "language_info": {
   "codemirror_mode": {
    "name": "ipython",
    "version": 3
   },
   "file_extension": ".py",
   "mimetype": "text/x-python",
   "name": "python",
   "nbconvert_exporter": "python",
   "pygments_lexer": "ipython3",
   "version": "3.6.8"
  }
 },
 "nbformat": 4,
 "nbformat_minor": 2
}
