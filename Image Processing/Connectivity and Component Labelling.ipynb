{
 "cells": [
  {
   "cell_type": "code",
   "execution_count": 1,
   "metadata": {},
   "outputs": [],
   "source": [
    "import cv2\n",
    "import numpy as np\n",
    "import matplotlib.pyplot as plt"
   ]
  },
  {
   "cell_type": "code",
   "execution_count": 2,
   "metadata": {},
   "outputs": [],
   "source": [
    "shp = (25,25)\n",
    "img = np.floor(np.random.random(shp) + 0.5)"
   ]
  },
  {
   "cell_type": "code",
   "execution_count": 3,
   "metadata": {},
   "outputs": [],
   "source": [
    "def four_way(out, i, j, color):\n",
    "    \n",
    "    if i < 0 or i>= shp[0]:\n",
    "        return\n",
    "    if j < 0 or j >= shp[1]:\n",
    "        return \n",
    "    if vis[i][j] or img[i][j] ==0:\n",
    "        return\n",
    "    \n",
    "    vis[i][j] = True\n",
    "    out[i][j] = color\n",
    "    \n",
    "    four_way(out, i - 1, j, color)\n",
    "    four_way(out, i + 1, j, color)\n",
    "    four_way(out, i, j - 1, color)\n",
    "    four_way(out, i, j + 1, color)"
   ]
  },
  {
   "cell_type": "code",
   "execution_count": 4,
   "metadata": {},
   "outputs": [],
   "source": [
    "def eight_way(out, i, j, color):\n",
    "    if i < 0 or i >= shp[0]: \n",
    "        return\n",
    "    if j < 0 or j >= shp[1]:\n",
    "        return\n",
    "    if vis[i][j] or img[i][j] == 0: \n",
    "        return\n",
    "    \n",
    "    vis[i][j] = True \n",
    "    out[i][j] = color\n",
    "    \n",
    "    eight_way(out, i - 1, j, color)\n",
    "    eight_way(out, i + 1, j, color)\n",
    "    eight_way(out, i, j - 1, color)\n",
    "    eight_way(out, i, j + 1, color)\n",
    "    eight_way(out, i - 1, j - 1, color)\n",
    "    eight_way(out, i - 1, j + 1, color)\n",
    "    eight_way(out, i + 1, j - 1, color)\n",
    "    eight_way(out, i + 1, j + 1, color)"
   ]
  },
  {
   "cell_type": "code",
   "execution_count": 5,
   "metadata": {},
   "outputs": [],
   "source": [
    "def m_way(out, i, j, color):\n",
    "    if i<0 or i>= shp[0]:\n",
    "        return\n",
    "    if j<0 or j>= shp[1]:\n",
    "        return\n",
    "    if vis[i][j] or img[i][j] == 0:\n",
    "        return\n",
    "    \n",
    "    vis[i][j] = True\n",
    "    out[i][j] = color\n",
    "    \n",
    "    m_way(out, i - 1, j, color)\n",
    "    m_way(out, i + 1, j, color)\n",
    "    m_way(out, i, j - 1, color)\n",
    "    m_way(out, i, j + 1, color)\n",
    "    m_way(out, i - 1, j - 1, color)\n",
    "    m_way(out, i - 1, j + 1, color)\n",
    "    m_way(out, i + 1, j - 1, color)\n",
    "    m_way(out, i + 1, j + 1, color)"
   ]
  },
  {
   "cell_type": "code",
   "execution_count": 6,
   "metadata": {},
   "outputs": [
    {
     "data": {
      "text/plain": [
       "<matplotlib.image.AxesImage at 0x11e4bca20>"
      ]
     },
     "execution_count": 6,
     "metadata": {},
     "output_type": "execute_result"
    },
    {
     "data": {
      "image/png": "[encoded data removed]",
      "text/plain": [
       "<Figure size 432x288 with 1 Axes>"
      ]
     },
     "metadata": {
      "needs_background": "light"
     },
     "output_type": "display_data"
    }
   ],
   "source": [
    "fig = plt.figure(100)\n",
    "fig.canvas.set_window_title('Main')\n",
    "plt.imshow(img, cmap=\"Greys\")"
   ]
  },
  {
   "cell_type": "code",
   "execution_count": 11,
   "metadata": {},
   "outputs": [
    {
     "data": {
      "text/plain": [
       "<matplotlib.image.AxesImage at 0x11e8a8d68>"
      ]
     },
     "execution_count": 11,
     "metadata": {},
     "output_type": "execute_result"
    },
    {
     "data": {
      "image/png": "[encoded data removed]",
      "text/plain": [
       "<Figure size 432x288 with 1 Axes>"
      ]
     },
     "metadata": {
      "needs_background": "light"
     },
     "output_type": "display_data"
    }
   ],
   "source": [
    "vis = np.zeros(shp,dtype=bool)\n",
    "out = np.zeros(shp + (3, ), dtype=int) \n",
    "for i in range(shp[0]):\n",
    "    for j in range(shp[1]): \n",
    "        if vis[i][j]:\n",
    "            continue\n",
    "            \n",
    "        color = np.random.randint(0, 255, 3)\n",
    "        four_way(out, i, j, color)\n",
    "fig = plt.figure(200)\n",
    "fig.canvas.set_window_title('4-Way')\n",
    "plt.imshow(out)"
   ]
  },
  {
   "cell_type": "code",
   "execution_count": 13,
   "metadata": {},
   "outputs": [
    {
     "data": {
      "text/plain": [
       "<matplotlib.image.AxesImage at 0x11e997208>"
      ]
     },
     "execution_count": 13,
     "metadata": {},
     "output_type": "execute_result"
    },
    {
     "data": {
      "image/png": "[encoded data removed]",
      "text/plain": [
       "<Figure size 432x288 with 1 Axes>"
      ]
     },
     "metadata": {
      "needs_background": "light"
     },
     "output_type": "display_data"
    }
   ],
   "source": [
    "vis = np.zeros(shp, dtype=bool)\n",
    "out = np.zeros(shp + (3, ), dtype=int)\n",
    "for i in range(shp[0]):\n",
    "    for j in range(shp[1]):\n",
    "        \n",
    "        if vis[i][j]:\n",
    "            continue\n",
    "        color = np.random.randint(0,255,3)\n",
    "        \n",
    "        eight_way(out, i, j, color)\n",
    "fig = plt.figure(300)\n",
    "fig.canvas.set_window_title('8-Way')\n",
    "plt.imshow(out)"
   ]
  },
  {
   "cell_type": "code",
   "execution_count": 14,
   "metadata": {},
   "outputs": [
    {
     "data": {
      "image/png": "[encoded data removed]",
      "text/plain": [
       "<Figure size 432x288 with 1 Axes>"
      ]
     },
     "metadata": {
      "needs_background": "light"
     },
     "output_type": "display_data"
    }
   ],
   "source": [
    "vis = np.zeros(shp, dtype=bool)\n",
    "out = np.zeros(shp + (3, ), dtype=int) \n",
    "for i in range(shp[0]):\n",
    "    for j in range(shp[1]): \n",
    "        if vis[i][j]:\n",
    "            continue\n",
    "    color = np.random.randint(0, 255, 3)\n",
    "    m_way(out, i, j, color)\n",
    "fig = plt.figure(400)\n",
    "fig.canvas.set_window_title('m-Way')\n",
    "plt.imshow(out)\n",
    "plt.show()"
   ]
  },
  {
   "cell_type": "code",
   "execution_count": null,
   "metadata": {},
   "outputs": [],
   "source": []
  }
 ],
 "metadata": {
  "kernelspec": {
   "display_name": "Python 3",
   "language": "python",
   "name": "python3"
  },
  "language_info": {
   "codemirror_mode": {
    "name": "ipython",
    "version": 3
   },
   "file_extension": ".py",
   "mimetype": "text/x-python",
   "name": "python",
   "nbconvert_exporter": "python",
   "pygments_lexer": "ipython3",
   "version": "3.6.6"
  }
 },
 "nbformat": 4,
 "nbformat_minor": 2
}
