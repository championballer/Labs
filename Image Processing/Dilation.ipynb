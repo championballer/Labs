{
 "cells": [
  {
   "cell_type": "code",
   "execution_count": 3,
   "metadata": {},
   "outputs": [
    {
     "name": "stdout",
     "output_type": "stream",
     "text": [
      "(289, 433)\n",
      "[[255 255 255 ... 255 255 255]\n",
      " [255 255 255 ... 255 255 255]\n",
      " [255 255 255 ... 255 255 255]\n",
      " ...\n",
      " [255 255 255 ... 255 255 255]\n",
      " [255 255 255 ... 255 255 255]\n",
      " [255 255 255 ... 255 255 255]]\n",
      "[[255 255 255 ... 255 255 255]\n",
      " [255 255 255 ... 255 255 255]\n",
      " [255 255 255 ... 255 255 255]\n",
      " ...\n",
      " [255 255 255 ... 255 255 255]\n",
      " [255 255 255 ... 255 255 255]\n",
      " [255 255 255 ... 255 255 255]]\n"
     ]
    }
   ],
   "source": [
    "import numpy as np\n",
    "import cv2\n",
    "def pad(img,shp):\n",
    "\tp=np.zeros((shp[0]+1,shp[1]+1))\n",
    "\tp[1:,1:]=np.copy(img)\n",
    "\tp[0,1:]=img[0]\n",
    "\tp[1:,0]=img[:,0]\n",
    "\tp[0,0]=img[0,0]\n",
    "\tp[-1,0]=img[-1,0]\n",
    "\treturn p\n",
    "\n",
    "def comp(sample,metric):\n",
    "\tfor i in range(2):\n",
    "\t\tfor j in range(2):\n",
    "\t\t\tif sample[i,j]==metric[i,j]:\n",
    "\t\t\t\treturn True\n",
    "\treturn False\n",
    "\n",
    "def slice(img):\n",
    "\ttemp=np.array(img)\n",
    "\tprint(temp.shape)\n",
    "\tint_slice=np.zeros((temp.shape[0],temp.shape[1],8))\n",
    "\tfor x in range(8):\n",
    "\t\tint_slice[:,:,x]=temp%(2)\n",
    "\t\ttemp=(temp/2).astype(int)\n",
    "\treturn int_slice\n",
    "\n",
    "def stitch(int_slice,shp):\n",
    "\tout=np.zeros(shp)\n",
    "\tfor x in range(8):\n",
    "\t\tout=out+int_slice[:,:,x]*(2**x)\n",
    "\treturn out\n",
    "\n",
    "\n",
    "img=cv2.imread('edges_detected.png',0)\n",
    "shp=img.shape\n",
    "temp=pad(img,shp)\n",
    "int_slice=slice(temp)\n",
    "struct_el=np.array([[1,1],[1,1]])\n",
    "int_slice_new=np.zeros((shp[0],shp[1],8))\n",
    "for x in range(8):\n",
    "\tfor i in range(shp[0]):\n",
    "\t\tfor j in range(shp[1]):\n",
    "\t\t\tif comp(int_slice[i:i+2,j:j+2,x],struct_el):\n",
    "\t\t\t\tint_slice_new[i,j,x]=1\n",
    "\n",
    "out=stitch(int_slice_new,shp)\n",
    "out=np.array(out, dtype = np.uint8)\n",
    "print(img)\n",
    "print(out)\n",
    "cv2.imshow('image', img)\n",
    "cv2.imshow('dilated', out)\n",
    "cv2.waitKey(0)\n",
    "cv2.destroyAllWindows()"
   ]
  },
  {
   "cell_type": "code",
   "execution_count": null,
   "metadata": {},
   "outputs": [],
   "source": []
  }
 ],
 "metadata": {
  "kernelspec": {
   "display_name": "Python 3",
   "language": "python",
   "name": "python3"
  },
  "language_info": {
   "codemirror_mode": {
    "name": "ipython",
    "version": 3
   },
   "file_extension": ".py",
   "mimetype": "text/x-python",
   "name": "python",
   "nbconvert_exporter": "python",
   "pygments_lexer": "ipython3",
   "version": "3.6.8"
  }
 },
 "nbformat": 4,
 "nbformat_minor": 2
}
