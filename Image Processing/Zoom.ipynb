{
 "cells": [
  {
   "cell_type": "code",
   "execution_count": 1,
   "metadata": {},
   "outputs": [],
   "source": [
    "import cv2\n",
    "import numpy as np"
   ]
  },
  {
   "cell_type": "code",
   "execution_count": 2,
   "metadata": {},
   "outputs": [],
   "source": [
    "img=cv2.imread('landscape.jpg',1)\n",
    "out=np.zeros((img.shape[0]*2,img.shape[1]*2,img.shape[2]))\n",
    "out2=np.zeros((img.shape[0]*2,img.shape[1]*2,img.shape[2]))"
   ]
  },
  {
   "cell_type": "code",
   "execution_count": 4,
   "metadata": {},
   "outputs": [
    {
     "data": {
      "text/plain": [
       "(290, 590, 3)"
      ]
     },
     "execution_count": 4,
     "metadata": {},
     "output_type": "execute_result"
    }
   ],
   "source": [
    "shp=img.shape\n",
    "shp"
   ]
  },
  {
   "cell_type": "code",
   "execution_count": 8,
   "metadata": {},
   "outputs": [
    {
     "data": {
      "text/plain": [
       "200"
      ]
     },
     "execution_count": 8,
     "metadata": {},
     "output_type": "execute_result"
    }
   ],
   "source": [
    "img[4]"
   ]
  },
  {
   "cell_type": "code",
   "execution_count": 9,
   "metadata": {},
   "outputs": [],
   "source": [
    "for i in range(shp[0]):\n",
    "    out[2*i,:shp[1]]=np.copy(img[i,:])"
   ]
  },
  {
   "cell_type": "code",
   "execution_count": null,
   "metadata": {},
   "outputs": [],
   "source": []
  },
  {
   "cell_type": "code",
   "execution_count": null,
   "metadata": {},
   "outputs": [],
   "source": [
    "for i in range(shp[0]):\n",
    "\tout[2*i,:shp[1]]=np.copy(img[i,:])\n",
    "\n",
    "for j in range(shp[1]):\n",
    "\tout2[:,2*j]=np.copy(out[:,j])\n",
    "\n",
    "out=np.copy(out2)\n",
    "\n",
    "for i in range(img.shape[0]-1):\n",
    "\tout[2*i+1,:]=out[2*i,:]/2+out[2*i+2,:]/2\n",
    "\n",
    "for j in range(img.shape[1]-1):\n",
    "\tout[:,2*j+1]=out[:,2*j]/2+out[:,2*j+2]/2\n",
    "\n",
    "out[-1,:]=out[-2,:]\n",
    "out[:,-1]=out[:,-2]\n",
    "\n",
    "out=np.array(out, dtype = np.uint8)\n",
    "\n",
    "cv2.imshow('image', img)\n",
    "cv2.imshow('zoomed', out)\n",
    "cv2.waitKey(0)\n",
    "cv2.destroyAllWindows()"
   ]
  }
 ],
 "metadata": {
  "kernelspec": {
   "display_name": "Python 3",
   "language": "python",
   "name": "python3"
  },
  "language_info": {
   "codemirror_mode": {
    "name": "ipython",
    "version": 3
   },
   "file_extension": ".py",
   "mimetype": "text/x-python",
   "name": "python",
   "nbconvert_exporter": "python",
   "pygments_lexer": "ipython3",
   "version": "3.6.6"
  }
 },
 "nbformat": 4,
 "nbformat_minor": 2
}
