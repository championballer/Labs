{
 "cells": [
  {
   "cell_type": "code",
   "execution_count": 2,
   "metadata": {},
   "outputs": [],
   "source": [
    "import cv2\n",
    "import numpy as np\n",
    "\n",
    "def invertor(value):\n",
    "\treturn 255-value\n",
    "\n",
    "img=cv2.imread('cat.jpeg',0)\n",
    "out=np.zeros(img.shape)\n",
    "for i in range(img.shape[0]):\n",
    "\tfor j in range(img.shape[1]):\n",
    "\t\tout[i,j]=invertor(img[i,j])\n",
    "\n",
    "out=np.array(out, dtype = np.uint8)\n",
    "\n",
    "cv2.imshow('image', img)\n",
    "cv2.imshow('inverted', out)\n",
    "cv2.waitKey(0)\n",
    "cv2.destroyAllWindows()\n"
   ]
  },
  {
   "cell_type": "code",
   "execution_count": null,
   "metadata": {},
   "outputs": [],
   "source": []
  }
 ],
 "metadata": {
  "kernelspec": {
   "display_name": "Python 3",
   "language": "python",
   "name": "python3"
  },
  "language_info": {
   "codemirror_mode": {
    "name": "ipython",
    "version": 3
   },
   "file_extension": ".py",
   "mimetype": "text/x-python",
   "name": "python",
   "nbconvert_exporter": "python",
   "pygments_lexer": "ipython3",
   "version": "3.6.6"
  }
 },
 "nbformat": 4,
 "nbformat_minor": 2
}
