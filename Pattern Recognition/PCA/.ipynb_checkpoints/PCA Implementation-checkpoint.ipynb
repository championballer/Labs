{
 "cells": [
  {
   "cell_type": "code",
   "execution_count": 61,
   "metadata": {},
   "outputs": [],
   "source": [
    "import numpy as np"
   ]
  },
  {
   "cell_type": "code",
   "execution_count": 62,
   "metadata": {},
   "outputs": [
    {
     "data": {
      "text/plain": [
       "array([[1, 2, 1],\n",
       "       [1, 0, 2],\n",
       "       [1, 3, 1]])"
      ]
     },
     "execution_count": 62,
     "metadata": {},
     "output_type": "execute_result"
    }
   ],
   "source": [
    "data = np.array([[1,2,1],[1,0,2],[1,3,1]])\n",
    "\n",
    "data"
   ]
  },
  {
   "cell_type": "code",
   "execution_count": 63,
   "metadata": {},
   "outputs": [
    {
     "data": {
      "text/plain": [
       "(3, 3)"
      ]
     },
     "execution_count": 63,
     "metadata": {},
     "output_type": "execute_result"
    }
   ],
   "source": [
    "data.shape"
   ]
  },
  {
   "cell_type": "code",
   "execution_count": 64,
   "metadata": {},
   "outputs": [
    {
     "data": {
      "text/plain": [
       "array([[1, 1, 1],\n",
       "       [2, 0, 3],\n",
       "       [1, 2, 1]])"
      ]
     },
     "execution_count": 64,
     "metadata": {},
     "output_type": "execute_result"
    }
   ],
   "source": [
    "data_t = data.T\n",
    "data_t"
   ]
  },
  {
   "cell_type": "code",
   "execution_count": 65,
   "metadata": {},
   "outputs": [
    {
     "data": {
      "text/plain": [
       "array([[ 0.        ,  0.        ,  0.        ],\n",
       "       [ 0.        ,  2.33333333, -0.83333333],\n",
       "       [ 0.        , -0.83333333,  0.33333333]])"
      ]
     },
     "execution_count": 65,
     "metadata": {},
     "output_type": "execute_result"
    }
   ],
   "source": [
    "cov_matrix = np.cov(data_t)\n",
    "cov_matrix"
   ]
  },
  {
   "cell_type": "code",
   "execution_count": 66,
   "metadata": {},
   "outputs": [
    {
     "data": {
      "text/plain": [
       "(array([0.03162505, 2.63504161, 0.        ]),\n",
       " array([[ 0.        ,  0.        ,  1.        ],\n",
       "        [-0.34042526, -0.94027158,  0.        ],\n",
       "        [-0.94027158,  0.34042526,  0.        ]]))"
      ]
     },
     "execution_count": 66,
     "metadata": {},
     "output_type": "execute_result"
    }
   ],
   "source": [
    "eigen_values,eigen_vectors = np.linalg.eig(cov_matrix)\n",
    "\n",
    "eigen_values,eigen_vectors"
   ]
  },
  {
   "cell_type": "code",
   "execution_count": 67,
   "metadata": {},
   "outputs": [
    {
     "data": {
      "text/plain": [
       "[(0.03162505401555782, array([ 0.        , -0.34042526, -0.94027158])),\n",
       " (2.635041612651109, array([ 0.        , -0.94027158,  0.34042526])),\n",
       " (0.0, array([1., 0., 0.]))]"
      ]
     },
     "execution_count": 67,
     "metadata": {},
     "output_type": "execute_result"
    }
   ],
   "source": [
    "eig_val_vector_pair = []\n",
    "\n",
    "for i in range(len(eigen_values)):\n",
    "    \n",
    "    eig_vec = eigen_vectors[:,i]\n",
    "    eig_val_vector_pair.append((eigen_values[i],eig_vec))\n",
    "\n",
    "eig_val_vector_pair"
   ]
  },
  {
   "cell_type": "code",
   "execution_count": 68,
   "metadata": {},
   "outputs": [
    {
     "data": {
      "text/plain": [
       "[(2.635041612651109, array([ 0.        , -0.94027158,  0.34042526])),\n",
       " (0.03162505401555782, array([ 0.        , -0.34042526, -0.94027158])),\n",
       " (0.0, array([1., 0., 0.]))]"
      ]
     },
     "execution_count": 68,
     "metadata": {},
     "output_type": "execute_result"
    }
   ],
   "source": [
    "eig_val_vector_pair.sort(reverse=True)\n",
    "\n",
    "eig_val_vector_pair"
   ]
  },
  {
   "cell_type": "code",
   "execution_count": 69,
   "metadata": {},
   "outputs": [
    {
     "data": {
      "text/plain": [
       "2.666666666666667"
      ]
     },
     "execution_count": 69,
     "metadata": {},
     "output_type": "execute_result"
    }
   ],
   "source": [
    "total = np.sum(eigen_values)\n",
    "\n",
    "total"
   ]
  },
  {
   "cell_type": "code",
   "execution_count": 77,
   "metadata": {},
   "outputs": [
    {
     "name": "stdout",
     "output_type": "stream",
     "text": [
      "[ 0.         -0.34042526 -0.94027158]\n",
      "[1. 0. 0.]\n"
     ]
    },
    {
     "data": {
      "text/plain": [
       "array([[ 0.        , -0.34042526, -0.94027158],\n",
       "       [ 1.        ,  0.        ,  0.        ]])"
      ]
     },
     "execution_count": 77,
     "metadata": {},
     "output_type": "execute_result"
    }
   ],
   "source": [
    "k = 0\n",
    "current_variance = 0\n",
    "\n",
    "transform_matrix = []\n",
    "while current_variance/total<0.99:\n",
    "    \n",
    "    \n",
    "    current_variance+=(eig_val_vector_pair[k][0])\n",
    "    k+=1\n",
    "    if  k>=len(eigen_values):\n",
    "        break\n",
    "    print(eig_val_vector_pair[k][1])\n",
    "    transform_matrix.append(eig_val_vector_pair[k][1])\n",
    "    \n",
    "transform_matrix = np.array(transform_matrix)\n",
    "transform_matrix"
   ]
  },
  {
   "cell_type": "code",
   "execution_count": 58,
   "metadata": {},
   "outputs": [],
   "source": [
    "transformed_data = np.dot(data,transform_matrix.T)"
   ]
  },
  {
   "cell_type": "code",
   "execution_count": 59,
   "metadata": {},
   "outputs": [
    {
     "data": {
      "text/plain": [
       "array([[-1.62112211,  1.        ],\n",
       "       [-1.88054316,  1.        ],\n",
       "       [-1.96154737,  1.        ]])"
      ]
     },
     "execution_count": 59,
     "metadata": {},
     "output_type": "execute_result"
    }
   ],
   "source": [
    "transformed_data"
   ]
  },
  {
   "cell_type": "code",
   "execution_count": null,
   "metadata": {},
   "outputs": [],
   "source": []
  }
 ],
 "metadata": {
  "kernelspec": {
   "display_name": "Python 3",
   "language": "python",
   "name": "python3"
  },
  "language_info": {
   "codemirror_mode": {
    "name": "ipython",
    "version": 3
   },
   "file_extension": ".py",
   "mimetype": "text/x-python",
   "name": "python",
   "nbconvert_exporter": "python",
   "pygments_lexer": "ipython3",
   "version": "3.6.8"
  }
 },
 "nbformat": 4,
 "nbformat_minor": 2
}
