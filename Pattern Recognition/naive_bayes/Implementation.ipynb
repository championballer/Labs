{
 "cells": [
  {
   "cell_type": "code",
   "execution_count": 1,
   "metadata": {},
   "outputs": [],
   "source": [
    "import numpy as np\n",
    "import pandas as pd\n",
    "from sklearn import datasets\n",
    "from sklearn import model_selection\n",
    "from sklearn import preprocessing"
   ]
  },
  {
   "cell_type": "code",
   "execution_count": 2,
   "metadata": {},
   "outputs": [],
   "source": [
    "iris = datasets.load_iris()"
   ]
  },
  {
   "cell_type": "code",
   "execution_count": 3,
   "metadata": {},
   "outputs": [],
   "source": [
    "x = iris.data\n",
    "y = iris.target"
   ]
  },
  {
   "cell_type": "code",
   "execution_count": 4,
   "metadata": {},
   "outputs": [],
   "source": [
    "def makeLabelled(x_col):\n",
    "    second_limit = x_col.mean()\n",
    "    first_limit = second_limit*0.5\n",
    "    third_limit = second_limit*1.5\n",
    "    for i in range(len(x_col)):\n",
    "        if x_col[i]<first_limit:\n",
    "            x_col[i]=0\n",
    "        elif x_col[i]<second_limit:\n",
    "            x_col[i]=1\n",
    "        elif x_col[i]<third_limit:\n",
    "            x_col[i]=2\n",
    "        else:\n",
    "            x_col[i]=3\n",
    "    return x_col"
   ]
  },
  {
   "cell_type": "code",
   "execution_count": 5,
   "metadata": {},
   "outputs": [],
   "source": [
    "for i in range(x.shape[1]):\n",
    "    x[:,i] = makeLabelled(x[:,i])"
   ]
  },
  {
   "cell_type": "code",
   "execution_count": 6,
   "metadata": {},
   "outputs": [],
   "source": [
    "x_train,x_test, y_train,y_test = model_selection.train_test_split(x,y,random_state=0)"
   ]
  },
  {
   "cell_type": "code",
   "execution_count": 7,
   "metadata": {},
   "outputs": [],
   "source": [
    "def fit(x_train,y_train):\n",
    "    result = {}\n",
    "    result[\"total_data\"] = len(y_train)\n",
    "    classes = set(y_train)\n",
    "    for current_class in classes:\n",
    "        result[current_class]={}\n",
    "        x_current_rows = x_train[y_train==current_class]\n",
    "        result[current_class][\"total_count\"] = x_current_rows.shape[0]\n",
    "        num_features = x_current_rows.shape[1]\n",
    "        for current_feature in range(num_features):\n",
    "            result[current_class][current_feature] = {}\n",
    "            labels = set(x_train[:,current_feature])\n",
    "            for current_label in labels:\n",
    "                result[current_class][current_feature][current_label] = len(x_current_rows[x_current_rows[:,current_feature]==current_label])\n",
    "    return result"
   ]
  },
  {
   "cell_type": "code",
   "execution_count": 8,
   "metadata": {},
   "outputs": [],
   "source": [
    "def probability(x_point,current_class,dictionary):\n",
    "    prob = (dictionary[current_class][\"total_count\"])/(dictionary[\"total_data\"])\n",
    "    num_features = len(dictionary[current_class].keys())-1\n",
    "    for current_feature in range(num_features):\n",
    "        num_labels = len(dictionary[current_class][current_feature].keys())-1\n",
    "        xj = x_point[i]\n",
    "        num = dictionary[current_class][i][xj]+1\n",
    "        den = dictionary[current_class][\"total_count\"]+num_labels\n",
    "        prob =  prob*(num/den)\n",
    "    return prob"
   ]
  },
  {
   "cell_type": "code",
   "execution_count": 9,
   "metadata": {},
   "outputs": [],
   "source": [
    "def classify(x_point,dictionary):\n",
    "    classes = len(dictionary.keys())-1\n",
    "    best_p = -1000\n",
    "    best_class = -1\n",
    "    for current_class in range(classes):\n",
    "        p = probability(x_point,current_class,dictionary)\n",
    "        if p>best_p:\n",
    "            best_p = p\n",
    "            best_class = current_class\n",
    "    return best_class"
   ]
  },
  {
   "cell_type": "code",
   "execution_count": 10,
   "metadata": {},
   "outputs": [],
   "source": [
    "def pred(x_test,dictionary):\n",
    "    y_pred = []\n",
    "    for x_point in x_test:\n",
    "        prediction = classify(x_point,dictionary)\n",
    "        y_pred.append(prediction)\n",
    "    return y_pred"
   ]
  },
  {
   "cell_type": "code",
   "execution_count": 11,
   "metadata": {},
   "outputs": [],
   "source": [
    "dictionary = fit(x_train,y_train)"
   ]
  },
  {
   "cell_type": "code",
   "execution_count": 12,
   "metadata": {},
   "outputs": [
    {
     "data": {
      "text/plain": [
       "{'total_data': 112,\n",
       " 0: {'total_count': 37,\n",
       "  0: {1.0: 37, 2.0: 0},\n",
       "  1: {1.0: 6, 2.0: 31},\n",
       "  2: {0.0: 37, 1.0: 0, 2.0: 0, 3.0: 0},\n",
       "  3: {0.0: 36, 1.0: 1, 2.0: 0, 3.0: 0}},\n",
       " 1: {'total_count': 34,\n",
       "  0: {1.0: 19, 2.0: 15},\n",
       "  1: {1.0: 28, 2.0: 6},\n",
       "  2: {0.0: 0, 1.0: 6, 2.0: 28, 3.0: 0},\n",
       "  3: {0.0: 0, 1.0: 8, 2.0: 25, 3.0: 1}},\n",
       " 2: {'total_count': 41,\n",
       "  0: {1.0: 4, 2.0: 37},\n",
       "  1: {1.0: 26, 2.0: 15},\n",
       "  2: {0.0: 0, 1.0: 0, 2.0: 24, 3.0: 17},\n",
       "  3: {0.0: 0, 1.0: 0, 2.0: 4, 3.0: 37}}}"
      ]
     },
     "execution_count": 12,
     "metadata": {},
     "output_type": "execute_result"
    }
   ],
   "source": [
    "dictionary"
   ]
  },
  {
   "cell_type": "code",
   "execution_count": 13,
   "metadata": {},
   "outputs": [],
   "source": [
    "y_pred = pred(x_test,dictionary)"
   ]
  },
  {
   "cell_type": "code",
   "execution_count": 14,
   "metadata": {},
   "outputs": [],
   "source": [
    "from sklearn.metrics import classification_report,confusion_matrix"
   ]
  },
  {
   "cell_type": "code",
   "execution_count": 15,
   "metadata": {},
   "outputs": [
    {
     "data": {
      "text/plain": [
       "array([[13,  0,  0],\n",
       "       [ 0, 16,  0],\n",
       "       [ 0,  1,  8]])"
      ]
     },
     "execution_count": 15,
     "metadata": {},
     "output_type": "execute_result"
    }
   ],
   "source": [
    "confusion_matrix(y_test,y_pred)"
   ]
  },
  {
   "cell_type": "code",
   "execution_count": 16,
   "metadata": {},
   "outputs": [
    {
     "name": "stdout",
     "output_type": "stream",
     "text": [
      "              precision    recall  f1-score   support\n",
      "\n",
      "           0       1.00      1.00      1.00        13\n",
      "           1       0.94      1.00      0.97        16\n",
      "           2       1.00      0.89      0.94         9\n",
      "\n",
      "   micro avg       0.97      0.97      0.97        38\n",
      "   macro avg       0.98      0.96      0.97        38\n",
      "weighted avg       0.98      0.97      0.97        38\n",
      "\n"
     ]
    }
   ],
   "source": [
    "print(classification_report(y_test,y_pred))"
   ]
  },
  {
   "cell_type": "code",
   "execution_count": null,
   "metadata": {},
   "outputs": [],
   "source": []
  }
 ],
 "metadata": {
  "kernelspec": {
   "display_name": "Python 3",
   "language": "python",
   "name": "python3"
  },
  "language_info": {
   "codemirror_mode": {
    "name": "ipython",
    "version": 3
   },
   "file_extension": ".py",
   "mimetype": "text/x-python",
   "name": "python",
   "nbconvert_exporter": "python",
   "pygments_lexer": "ipython3",
   "version": "3.6.8"
  }
 },
 "nbformat": 4,
 "nbformat_minor": 2
}
